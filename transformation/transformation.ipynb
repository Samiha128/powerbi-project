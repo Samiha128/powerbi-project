{
  "nbformat": 4,
  "nbformat_minor": 0,
  "metadata": {
    "colab": {
      "private_outputs": true,
      "provenance": []
    },
    "kernelspec": {
      "name": "python3",
      "display_name": "Python 3"
    },
    "language_info": {
      "name": "python"
    }
  },
  "cells": [
    {
      "cell_type": "code",
      "execution_count": null,
      "metadata": {
        "id": "FFB5zKsadpbW"
      },
      "outputs": [],
      "source": [
        "import pandas as pd\n",
        "chemin_fichier = '/content/scopus.csv'\n",
        "df_global = pd.read_csv(chemin_fichier)\n",
        "df_global.head()\n"
      ]
    },
    {
      "cell_type": "code",
      "source": [
        "print(df_global.columns.tolist())"
      ],
      "metadata": {
        "id": "Us2x8iryhCP1"
      },
      "execution_count": null,
      "outputs": []
    },
    {
      "cell_type": "code",
      "source": [
        "print(df_global['Affiliations'])"
      ],
      "metadata": {
        "id": "Z9ARm4mkllnE"
      },
      "execution_count": null,
      "outputs": []
    },
    {
      "cell_type": "code",
      "source": [
        "%pip install -qU langchain-groq\n"
      ],
      "metadata": {
        "id": "YhADpScLhUnf"
      },
      "execution_count": null,
      "outputs": []
    },
    {
      "cell_type": "code",
      "source": [
        "from langchain_groq import ChatGroq\n",
        "from pydantic import BaseModel, Field\n",
        "\n",
        "class EntityExtraction(BaseModel):\n",
        "    university: str = Field(description=\"Nom de l'université\")\n",
        "    faculty: str = Field(description=\"Nom de la faculté\")\n",
        "    city: str = Field(description=\"Nom de la ville\")\n",
        "    country: str = Field(description=\"Nom du pays\")\n",
        "\n",
        "api_key = \"\"\n",
        "llm = ChatGroq(\n",
        "    model=\"mixtral-8x7b-32768\",\n",
        "    temperature=0,\n",
        "    max_tokens=None,\n",
        "    timeout=None,\n",
        "    max_retries=2,\n",
        "    api_key=api_key\n",
        ")\n",
        "\n",
        "query = \"University of Sidi Mohamed Ben Abdellah, Faculty of Science and Technology, Laboratory of Functional Ecology and Environmental Engineering, Fez, Morocco\"\n",
        "\n",
        "messages = [\n",
        "    (\n",
        "        \"system\",\n",
        "        \"You are a helpful assistant that extracts entities such as school (école), faculty (faculté), city (ville), and country (pays) from a sentence. \"\n",
        "        \"You should output them in the following format: {'school': '<school_name>', 'faculty': '<faculty_name>', 'city': '<city_name>', 'country': '<country_name>', 'university': '<university_name>'}. \"\n",
        "        \"If the sentence includes an acronym (e.g., INPT for Institut National des Postes et Télécommunications), \"\n",
        "        \"you should expand it to the full name. \"\n",
        "        \"Recognize abbreviations like INPT, ENSA, FST, and others and expand them to their full names. \"\n",
        "        \"If the school is associated with a well-known university in the given city, output the university's name. \"\n",
        "        \"For example, if the school is ENS in Tetouan, the university should be Université Abdelmalek Essaadi, Tetouan. \"\n",
        "        \"If there is no direct association with a university in the city, state 'There is no specific university mentioned for <school_name>, <city>.'.\"\n",
        "    ),\n",
        "    (\"human\", query),\n",
        "]\n",
        "\n",
        "ai_msg = llm.invoke(messages)\n",
        "\n",
        "print(ai_msg.content)\n",
        "\n",
        "try:\n",
        "    response_data = ai_msg.content\n",
        "\n",
        "    entities = EntityExtraction.parse_raw(response_data)\n",
        "    print(entities)\n",
        "except Exception as e:\n",
        "    print(\"Erreur lors du parsing de la réponse:\", e)\n"
      ],
      "metadata": {
        "id": "CjHVE4rshu7T"
      },
      "execution_count": null,
      "outputs": []
    },
    {
      "cell_type": "code",
      "source": [
        "df_affiliations_split = df_global['Affiliations'].str.split(';', expand=True)\n",
        "\n",
        "df_affiliations_split.head(2)"
      ],
      "metadata": {
        "id": "nwm4hueeaUfj"
      },
      "execution_count": null,
      "outputs": []
    },
    {
      "cell_type": "code",
      "source": [
        "from langchain_groq import ChatGroq\n",
        "from pydantic import BaseModel, Field\n",
        "import json\n",
        "\n",
        "class EntityExtraction(BaseModel):\n",
        "    author: str = Field(description=\"Nom de l'auteur\")\n",
        "    university: str = Field(description=\"Nom de l'université\")\n",
        "    year: int = Field(description=\"Année de publication\")\n",
        "\n",
        "api_key = \"\"\n",
        "llm = ChatGroq(\n",
        "    model=\"mixtral-8x7b-32768\",\n",
        "    temperature=0,\n",
        "    max_tokens=200,\n",
        "    timeout=None,\n",
        "    max_retries=2,\n",
        "    api_key=api_key\n",
        ")\n",
        "\n",
        "universities = [\n",
        "    \"tkhbi9a university\"\n",
        "    \"University of abdelmalek saadi \"\n",
        "    \"University of Sidi Mohamed Ben Abdellah, Faculty of Science and Technology, Laboratory of Functional Ecology and Environmental Engineering, Fez, Morocco\",\n",
        "    \"University of Sidi Mohamed Ben Abdellah, Faculty of Science and Technology, Laboratory of Condensed Matter Chemistry, Fez, Morocco\",\n",
        "    \"Mohammed 1st University, Nador Multidisciplinary Faculty (FPN), OLMANBGPE, Oujda, Nador, Morocco\"\n",
        "\n",
        "]\n",
        "\n",
        "def extract_affiliations_from_text(query):\n",
        "    messages = [\n",
        "        (\n",
        "            \"system\",\n",
        "            \"You are an assistant that extracts author affiliations with universities. You are given the name of an author and the year of publication. \"\n",
        "            \"Provide the author's affiliation with the university in the following format: {'author': '<author_name>', 'university': '<university_name>', 'year': <year>}. \"\n",
        "            \"If there is no affiliation, indicate 'No affiliation found for <author_name> in <year>'.\"\n",
        "        ),\n",
        "        (\"human\", query),\n",
        "    ]\n",
        "\n",
        "\n",
        "    ai_msg = llm.invoke(messages)\n",
        "\n",
        "    try:\n",
        "\n",
        "        response_data = ai_msg.content\n",
        "        print(\"Réponse de Groq:\", response_data)\n",
        "\n",
        "\n",
        "        if response_data:\n",
        "\n",
        "            entities = json.loads(response_data)\n",
        "\n",
        "            if isinstance(entities, dict) and 'author' in entities and 'university' in entities and 'year' in entities:\n",
        "                return entities\n",
        "            else:\n",
        "                return {'error': 'Réponse mal formatée', 'author': query.split(' ')[3]}\n",
        "        else:\n",
        "            return {'error': 'Aucune réponse reçue'}\n",
        "\n",
        "    except Exception as e:\n",
        "        print(f\"Erreur lors du parsing de la réponse : {e}\")\n",
        "        return {'error': f\"Erreur de parsing: {e}\"}\n",
        "\n",
        "authors = [\"Chater Oumaima\", \"El Ghadraoui Lahsen\", \"Harrach Ahmed\", \"Aazza Smail\"]\n",
        "results = {}\n",
        "\n",
        "for author in authors:\n",
        "\n",
        "    query = f\"Quelle est l'affiliation de {author} en 2023 ? Il est associé aux universités suivantes : {', '.join(universities)}\"\n",
        "\n",
        "    affiliation = extract_affiliations_from_text(query)\n",
        "    results[author] = affiliation\n",
        "\n",
        "for author, affiliation in results.items():\n",
        "    print(f\"Résultats pour {author}: {affiliation}\")\n"
      ],
      "metadata": {
        "id": "rbg1K6oi3_Kk"
      },
      "execution_count": null,
      "outputs": []
    },
    {
      "cell_type": "code",
      "source": [
        "from langchain_groq import ChatGroq\n",
        "from pydantic import BaseModel, Field\n",
        "import json\n",
        "\n",
        "class EntityExtraction(BaseModel):\n",
        "    author: str = Field(description=\"Nom de l'auteur\")\n",
        "    university: str = Field(description=\"Nom de l'université\")\n",
        "    year: int = Field(description=\"Année de publication\")\n",
        "\n",
        "api_key = \"\"\n",
        "llm = ChatGroq(\n",
        "    model=\"mixtral-8x7b-32768\",\n",
        "    temperature=0,\n",
        "    max_tokens=200,\n",
        "    timeout=None,\n",
        "    max_retries=2,\n",
        "    api_key=api_key\n",
        ")\n",
        "\n",
        "universities = [\n",
        "\n",
        "    \"University of abdelmalek saadi\",\n",
        "    \"University of Sidi Mohamed Ben Abdellah, Faculty of Science and Technology, Laboratory of Functional Ecology and Environmental Engineering, Fez, Morocco\",\n",
        "    \"University of Sidi Mohamed Ben Abdellah, Faculty of Science and Technology, Laboratory of Condensed Matter Chemistry, Fez, Morocco\",\n",
        "    \"Mohammed 1st University, Nador Multidisciplinary Faculty (FPN), OLMANBGPE, Oujda, Nador, Morocco\"\n",
        "]\n",
        "\n",
        "def extract_affiliations_from_text(query):\n",
        "    messages = [\n",
        "        (\n",
        "            \"system\",\n",
        "            \"You are an assistant that extracts author affiliations with universities. You are given the name of an author and the year of publication. \"\n",
        "            \"Provide the author's affiliation with the university in the following format: {'author': '<author_name>', 'university': '<university_name>', 'year': <year>}. \"\n",
        "            \"If there is no affiliation, indicate 'No affiliation found for <author_name> in <year>'.\"\n",
        "        ),\n",
        "        (\"human\", query),\n",
        "    ]\n",
        "\n",
        "    ai_msg = llm.invoke(messages)\n",
        "\n",
        "    try:\n",
        "        response_data = ai_msg.content\n",
        "        print(\"Réponse de Groq:\", response_data)\n",
        "\n",
        "        if response_data:\n",
        "            entities = json.loads(response_data)\n",
        "            if isinstance(entities, dict) and 'author' in entities and 'university' in entities and 'year' in entities:\n",
        "                return entities\n",
        "            else:\n",
        "                return {'error': 'Réponse mal formatée', 'author': query.split(' ')[3]}\n",
        "        else:\n",
        "            return {'error': 'Aucune réponse reçue'}\n",
        "\n",
        "    except Exception as e:\n",
        "        print(f\"Erreur lors du parsing de la réponse : {e}\")\n",
        "        return {'error': f\"Erreur de parsing: {e}\"}\n",
        "\n",
        "authors = [\"Chater Oumaima\", \"El Ghadraoui Lahsen\", \"Harrach Ahmed\", \"Aazza Smail\"]\n",
        "results = {}\n",
        "\n",
        "for author in authors:\n",
        "    query = f\"Quelle est l'affiliation de {author} en 2023 ? Il est associé aux universités suivantes : {', '.join(universities)}\"\n",
        "    affiliation = extract_affiliations_from_text(query)\n",
        "    results[author] = affiliation\n",
        "\n",
        "output_file = \"affiliations_results.json\"\n",
        "with open(output_file, \"w\", encoding=\"utf-8\") as file:\n",
        "    json.dump(results, file, ensure_ascii=False, indent=4)\n",
        "\n",
        "print(f\"Les résultats ont été sauvegardés dans le fichier : {output_file}\")\n"
      ],
      "metadata": {
        "id": "nLgekU2ZM2kU"
      },
      "execution_count": null,
      "outputs": []
    },
    {
      "cell_type": "code",
      "source": [
        "import pandas as pd\n",
        "chemin_fichier = '/content/morocco_affiliations.json'\n",
        "df_json = pd.read_json(chemin_fichier)\n",
        "print(\"Contenu du fichier JSON sous forme de DataFrame :\")\n",
        "df_json.head()\n"
      ],
      "metadata": {
        "id": "4kqRaN6jk7YE"
      },
      "execution_count": null,
      "outputs": []
    },
    {
      "cell_type": "code",
      "source": [
        "import pandas as pd\n",
        "chemin_fichier = '/content/morocco_affiliations.json'\n",
        "df_json = pd.read_json(chemin_fichier)\n",
        "\n",
        "if 'affiliation' in df_json.columns:\n",
        "\n",
        "    df_exploded = df_json['affiliation'].explode().reset_index(drop=True)\n",
        "\n",
        "    affiliation_df = pd.json_normalize(df_exploded)\n",
        "\n",
        "    affiliation_df = affiliation_df[['affilname', 'affiliation-city', 'affiliation-country']]\n",
        "\n",
        "    morocco_affiliations = affiliation_df[affiliation_df['affiliation-country'] == 'Morocco']\n",
        "\n",
        "    print(\"Affiliations dans le pays 'Morocco' :\")\n",
        "    print(morocco_affiliations)\n",
        "else:\n",
        "    print(\"La colonne 'affiliation' n'existe pas dans ce fichier JSON.\")\n"
      ],
      "metadata": {
        "id": "FfOEnW0vpli2"
      },
      "execution_count": null,
      "outputs": []
    },
    {
      "cell_type": "code",
      "source": [
        "import json\n",
        "import pandas as pd\n",
        "import uuid\n",
        "\n",
        "with open(\"morocco_affiliations.json\", \"r\", encoding=\"utf-8\") as file:\n",
        "    data = json.load(file)\n",
        "\n",
        "authors_data = []\n",
        "authors_mapping = {}\n",
        "\n",
        "affiliations_data = []\n",
        "affiliation_mapping = {}\n",
        "\n",
        "journals_data = []\n",
        "facts_data = []\n",
        "\n",
        "for entry in data:\n",
        "\n",
        "    journal_id = str(uuid.uuid4())\n",
        "    journals_data.append({\n",
        "        \"journal_id\": journal_id,\n",
        "        \"title\": entry.get(\"dc:title\"),\n",
        "        \"doi\": entry.get(\"prism:doi\"),\n",
        "        \"url\": entry.get(\"prism:url\"),\n",
        "        \"publication_name\": entry.get(\"prism:publicationName\"),\n",
        "        \"issn\": entry.get(\"prism:issn\"),\n",
        "        \"eissn\": entry.get(\"prism:eIssn\"),\n",
        "        \"volume\": entry.get(\"prism:volume\"),\n",
        "        \"issue\": entry.get(\"prism:issueIdentifier\"),\n",
        "        \"page_range\": entry.get(\"prism:pageRange\"),\n",
        "        \"cover_date\": entry.get(\"prism:coverDate\"),\n",
        "        \"cited_by\": entry.get(\"citedby-count\")\n",
        "    })\n",
        "\n",
        "    author_name = entry.get(\"dc:creator\", \"\")\n",
        "    if author_name not in authors_mapping:\n",
        "        author_id = str(uuid.uuid4())\n",
        "        authors_mapping[author_name] = author_id\n",
        "        authors_data.append({\n",
        "            \"author_id\": author_id,\n",
        "            \"author_name\": author_name\n",
        "        })\n",
        "    else:\n",
        "        author_id = authors_mapping[author_name]\n",
        "\n",
        "    affiliations = entry.get(\"affiliation\", [])\n",
        "    if isinstance(affiliations, list):\n",
        "        for affil in affiliations:\n",
        "            affil_name = affil.get(\"affilname\", \"\").strip()\n",
        "            affil_city = affil.get(\"affiliation-city\", \"\")\n",
        "            affil_country = affil.get(\"affiliation-country\", \"\")\n",
        "\n",
        "\n",
        "            affil_key = f\"{affil_name}_{affil_city}_{affil_country}\"\n",
        "            if affil_key not in affiliation_mapping:\n",
        "                affiliation_id = str(uuid.uuid4())\n",
        "                affiliation_mapping[affil_key] = affiliation_id\n",
        "                affiliations_data.append({\n",
        "                    \"affiliation_id\": affiliation_id,\n",
        "                    \"affilname\": affil_name,\n",
        "                    \"city\": affil_city,\n",
        "                    \"country\": affil_country,\n",
        "                    \"author_id\": author_id\n",
        "                })\n",
        "            else:\n",
        "                affiliation_id = affiliation_mapping[affil_key]\n",
        "\n",
        "            facts_data.append({\n",
        "                \"journal_id\": journal_id,\n",
        "                \"author_id\": author_id,\n",
        "                \"affiliation_id\": affiliation_id\n",
        "            })\n",
        "\n",
        "authors_df = pd.DataFrame(authors_data)\n",
        "affiliations_df = pd.DataFrame(affiliations_data)\n",
        "journals_df = pd.DataFrame(journals_data)\n",
        "facts_df = pd.DataFrame(facts_data)\n",
        "\n",
        "facts_df\n"
      ],
      "metadata": {
        "id": "a1LsV0sRsyXu"
      },
      "execution_count": null,
      "outputs": []
    },
    {
      "cell_type": "code",
      "source": [
        "import json\n",
        "import pandas as pd\n",
        "import uuid\n",
        "\n",
        "with open(\"morocco_affiliations.json\", \"r\", encoding=\"utf-8\") as file:\n",
        "    data = json.load(file)\n",
        "\n",
        "authors_data = []\n",
        "authors_mapping = {}\n",
        "\n",
        "affiliations_data = []\n",
        "affiliation_mapping = {}\n",
        "\n",
        "journals_data = []\n",
        "facts_data = []\n",
        "\n",
        "for entry in data:\n",
        "\n",
        "    journal_id = str(uuid.uuid4())\n",
        "    journal_data = {\n",
        "        \"journal_id\": journal_id,\n",
        "        \"url\": entry.get(\"prism:url\"),\n",
        "        \"identifier\": entry.get(\"dc:identifier\"),\n",
        "        \"eid\": entry.get(\"eid\"),\n",
        "        \"title\": entry.get(\"dc:title\"),\n",
        "        \"creator\": entry.get(\"dc:creator\"),\n",
        "        \"publication_name\": entry.get(\"prism:publicationName\"),\n",
        "        \"issn\": entry.get(\"prism:issn\"),\n",
        "        \"eissn\": entry.get(\"prism:eIssn\"),\n",
        "        \"volume\": entry.get(\"prism:volume\"),\n",
        "        \"issue\": entry.get(\"prism:issueIdentifier\"),\n",
        "        \"page_range\": entry.get(\"prism:pageRange\"),\n",
        "        \"cover_date\": entry.get(\"prism:coverDate\"),\n",
        "        \"cited_by\": entry.get(\"citedby-count\"),\n",
        "        \"doi\": entry.get(\"prism:doi\")\n",
        "    }\n",
        "\n",
        "    journals_data.append(journal_data)\n",
        "\n",
        "    author_name = entry.get(\"dc:creator\", \"\")\n",
        "    if author_name not in authors_mapping:\n",
        "        author_id = str(uuid.uuid4())\n",
        "        authors_mapping[author_name] = author_id\n",
        "        authors_data.append({\n",
        "            \"author_id\": author_id,\n",
        "            \"author_name\": author_name\n",
        "        })\n",
        "    else:\n",
        "        author_id = authors_mapping[author_name]\n",
        "\n",
        "    affiliations = entry.get(\"affiliation\", [])\n",
        "    if isinstance(affiliations, list):\n",
        "        for affil in affiliations:\n",
        "            affil_name = affil.get(\"affilname\", \"\").strip()\n",
        "            affil_city = affil.get(\"affiliation-city\", \"\")\n",
        "            affil_country = affil.get(\"affiliation-country\", \"\")\n",
        "\n",
        "            affil_key = f\"{affil_name}_{affil_city}_{affil_country}\"\n",
        "            if affil_key not in affiliation_mapping:\n",
        "                affiliation_id = str(uuid.uuid4())\n",
        "                affiliation_mapping[affil_key] = affiliation_id\n",
        "                affiliations_data.append({\n",
        "                    \"affiliation_id\": affiliation_id,\n",
        "                    \"affilname\": affil_name,\n",
        "                    \"city\": affil_city,\n",
        "                    \"country\": affil_country,\n",
        "                    \"author_id\": author_id\n",
        "                })\n",
        "            else:\n",
        "                affiliation_id = affiliation_mapping[affil_key]\n",
        "\n",
        "\n",
        "            facts_data.append({\n",
        "                \"journal_id\": journal_id,\n",
        "                \"author_id\": author_id,\n",
        "                \"affiliation_id\": affiliation_id,\n",
        "                \"journal_url\": journal_data[\"url\"],\n",
        "                \"journal_identifier\": journal_data[\"identifier\"],\n",
        "                \"journal_title\": journal_data[\"title\"],\n",
        "                \"journal_doi\": journal_data[\"doi\"],\n",
        "                \"journal_cited_by\": journal_data[\"cited_by\"]\n",
        "            })\n",
        "\n",
        "authors_df = pd.DataFrame(authors_data)\n",
        "affiliations_df = pd.DataFrame(affiliations_data)\n",
        "journals_df = pd.DataFrame(journals_data)\n",
        "facts_df = pd.DataFrame(facts_data)"
      ],
      "metadata": {
        "id": "vYphXFFSFraZ"
      },
      "execution_count": null,
      "outputs": []
    },
    {
      "cell_type": "code",
      "source": [
        "journals_df"
      ],
      "metadata": {
        "id": "N0rRBYbWF6Mk"
      },
      "execution_count": null,
      "outputs": []
    },
    {
      "cell_type": "code",
      "source": [
        "\n",
        "journals_df[\"identifier\"] = journals_df[\"identifier\"].str.replace(\"SCOPUS_ID:\", \"\", regex=False)\n",
        "journals_df.head()\n"
      ],
      "metadata": {
        "id": "lrdeBKj1eL_n"
      },
      "execution_count": null,
      "outputs": []
    },
    {
      "cell_type": "code",
      "source": [
        "authors_df"
      ],
      "metadata": {
        "id": "fhSFYICwGR4c"
      },
      "execution_count": null,
      "outputs": []
    },
    {
      "cell_type": "code",
      "source": [
        "affiliations_df"
      ],
      "metadata": {
        "id": "mNnZEqlMGXGn"
      },
      "execution_count": null,
      "outputs": []
    },
    {
      "cell_type": "code",
      "source": [
        "facts_df"
      ],
      "metadata": {
        "id": "HLFo3CHiGqIz"
      },
      "execution_count": null,
      "outputs": []
    },
    {
      "cell_type": "code",
      "source": [
        "print(\"Author ID (première ligne de authors_df) :\", authors_df.iloc[0][\"author_id\"])\n",
        "print(\"Author ID (première ligne de affiliations_df) :\", affiliations_df.iloc[0][\"author_id\"])\n",
        "print(\"Affiliation ID (première ligne de affiliations_df) :\", affiliations_df.iloc[0][\"affiliation_id\"])\n"
      ],
      "metadata": {
        "id": "NcLYpAuqEvMS"
      },
      "execution_count": null,
      "outputs": []
    },
    {
      "cell_type": "code",
      "source": [
        "\n",
        "facts_df.to_csv(\"facts.csv\", index=False, encoding=\"utf-8\")\n",
        "affiliations_df.to_csv(\"affiliations.csv\", index=False, encoding=\"utf-8\")\n",
        "authors_df.to_csv(\"authors.csv\", index=False, encoding=\"utf-8\")\n",
        "journals_df.to_csv(\"journals.csv\", index=False, encoding=\"utf-8\")\n",
        "\n",
        "print(\"Les fichiers CSV ont été générés avec succès : facts.csv, affiliations.csv, authors.csv, journals.csv\")\n"
      ],
      "metadata": {
        "id": "KkGQe6-JhGym"
      },
      "execution_count": null,
      "outputs": []
    },
    {
      "cell_type": "code",
      "source": [
        "import pandas as pd\n",
        "\n",
        "def find_all_differences(base, compare):\n",
        "    results = []\n",
        "    matched_lines = []\n",
        "\n",
        "    for phrase1 in base:\n",
        "        row_results = []\n",
        "        matched_line = None\n",
        "        for i, phrase2 in enumerate(compare):\n",
        "            if phrase1 == phrase2:\n",
        "                matched_line = phrase2\n",
        "                break\n",
        "            elif set(phrase1.split(', ')).issubset(set(phrase2.split(', '))):\n",
        "                matched_line = phrase2\n",
        "                break\n",
        "\n",
        "        if matched_line:\n",
        "            diff = [word for word in matched_line.split(', ') if word not in phrase1.split(', ')]\n",
        "            if diff:\n",
        "                row_results.append(', '.join(diff))\n",
        "            else:\n",
        "                row_results.append(\"\")\n",
        "        else:\n",
        "            row_results.append(\"\")\n",
        "\n",
        "\n",
        "        matched_lines.append(matched_line if matched_line else \"\")\n",
        "\n",
        "        results.append(', '.join(row_results) if row_results else \"\")\n",
        "\n",
        "    return results, matched_lines\n",
        "\n",
        "\n",
        "differences, matched_lines = find_all_differences(morocco_affiliations['affiliation_combined'], df_global['Affiliations'])\n",
        "\n",
        "df_result = pd.DataFrame({\n",
        "    \"Affiliation combinée (Morocco)\": morocco_affiliations['affiliation_combined'],\n",
        "    \"Différences trouvées dans df_global\": differences,\n",
        "    \"Ligne correspondante dans df_global\": matched_lines\n",
        "})\n",
        "\n",
        "pd.set_option('display.max_colwidth', None)\n",
        "\n",
        "df_result.head()\n"
      ],
      "metadata": {
        "id": "dXvDtWje_jPn"
      },
      "execution_count": null,
      "outputs": []
    },
    {
      "cell_type": "code",
      "source": [
        "df_result = pd.DataFrame({\n",
        "    \"Affiliation combinée (Morocco)\": morocco_affiliations['affiliation_combined'],\n",
        "    \"Différences trouvées dans df_global\": differences,\n",
        "    \"Ligne correspondante dans df_global\": matched_lines\n",
        "})"
      ],
      "metadata": {
        "id": "O7zbwk8gU_DL"
      },
      "execution_count": null,
      "outputs": []
    }
  ]
}